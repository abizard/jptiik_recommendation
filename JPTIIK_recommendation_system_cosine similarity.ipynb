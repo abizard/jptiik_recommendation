{
 "cells": [
  {
   "cell_type": "code",
   "execution_count": 53,
   "id": "0ca340c8",
   "metadata": {},
   "outputs": [],
   "source": [
    "import pandas as pd\n",
    "import matplotlib.pyplot as plt"
   ]
  },
  {
   "cell_type": "code",
   "execution_count": 54,
   "id": "c4bfa2a9",
   "metadata": {},
   "outputs": [
    {
     "data": {
      "text/html": [
       "<div>\n",
       "<style scoped>\n",
       "    .dataframe tbody tr th:only-of-type {\n",
       "        vertical-align: middle;\n",
       "    }\n",
       "\n",
       "    .dataframe tbody tr th {\n",
       "        vertical-align: top;\n",
       "    }\n",
       "\n",
       "    .dataframe thead th {\n",
       "        text-align: right;\n",
       "    }\n",
       "</style>\n",
       "<table border=\"1\" class=\"dataframe\">\n",
       "  <thead>\n",
       "    <tr style=\"text-align: right;\">\n",
       "      <th></th>\n",
       "      <th>judul</th>\n",
       "      <th>link</th>\n",
       "      <th>date</th>\n",
       "      <th>author</th>\n",
       "      <th>abstract</th>\n",
       "    </tr>\n",
       "  </thead>\n",
       "  <tbody>\n",
       "    <tr>\n",
       "      <th>0</th>\n",
       "      <td>\\r\\n\\t\\t\\t\\t Interactive Mixed Reality System ...</td>\n",
       "      <td>https://j-ptiik.ub.ac.id/index.php/j-ptiik/art...</td>\n",
       "      <td>\\nDiterbitkan\\n\\t\\t\\t\\t\\t\\tJan  3, 2017\\n\\t\\t\\...</td>\n",
       "      <td>\\nAristyo Pramana\\n\\n\\t\\t\\t\\t\\t\\t\\t\\t\\tFakulta...</td>\n",
       "      <td>\\nTeknologi mixed reality akan membuat interak...</td>\n",
       "    </tr>\n",
       "    <tr>\n",
       "      <th>1</th>\n",
       "      <td>\\r\\n\\t\\t\\t\\t Optimasi Penjadwalan Mata Pelajar...</td>\n",
       "      <td>https://j-ptiik.ub.ac.id/index.php/j-ptiik/art...</td>\n",
       "      <td>\\nDiterbitkan\\n\\t\\t\\t\\t\\t\\tJan  3, 2017\\n\\t\\t\\...</td>\n",
       "      <td>\\nOlive Khoirul L.M.A.\\n\\n\\t\\t\\t\\t\\t\\t\\t\\t\\tTe...</td>\n",
       "      <td>\\nPenjadwalan merupakan salah satu proses pent...</td>\n",
       "    </tr>\n",
       "    <tr>\n",
       "      <th>2</th>\n",
       "      <td>\\r\\n\\t\\t\\t\\t Pengembangan Push Notification Me...</td>\n",
       "      <td>https://j-ptiik.ub.ac.id/index.php/j-ptiik/art...</td>\n",
       "      <td>\\nDiterbitkan\\n\\t\\t\\t\\t\\t\\tJan  3, 2017\\n\\t\\t\\...</td>\n",
       "      <td>\\nAndrias Yudianto\\n\\n\\t\\t\\t\\t\\t\\t\\t\\t\\tTeknik...</td>\n",
       "      <td>\\nUntuk memenuhi kebutuhan masyarakat akan ket...</td>\n",
       "    </tr>\n",
       "    <tr>\n",
       "      <th>3</th>\n",
       "      <td>\\r\\n\\t\\t\\t\\t Pembangunan Sistem Informasi Mana...</td>\n",
       "      <td>https://j-ptiik.ub.ac.id/index.php/j-ptiik/art...</td>\n",
       "      <td>\\nDiterbitkan\\n\\t\\t\\t\\t\\t\\tJan  3, 2017\\n\\t\\t\\...</td>\n",
       "      <td>\\nAdzanil Rachmadi P\\n\\n\\t\\t\\t\\t\\t\\t\\t\\t\\tSist...</td>\n",
       "      <td>\\nPerusahaan McDonald’s adalah perusahaan yang...</td>\n",
       "    </tr>\n",
       "    <tr>\n",
       "      <th>4</th>\n",
       "      <td>\\r\\n\\t\\t\\t\\t Implementasi Metode Store and For...</td>\n",
       "      <td>https://j-ptiik.ub.ac.id/index.php/j-ptiik/art...</td>\n",
       "      <td>\\nDiterbitkan\\n\\t\\t\\t\\t\\t\\tJan  3, 2017\\n\\t\\t\\...</td>\n",
       "      <td>\\nMuhammad Gigih Wicaksono\\n\\n\\t\\t\\t\\t\\t\\t\\t\\t...</td>\n",
       "      <td>\\nPerkembangan internet saat ini sangat pesat....</td>\n",
       "    </tr>\n",
       "  </tbody>\n",
       "</table>\n",
       "</div>"
      ],
      "text/plain": [
       "                                               judul  \\\n",
       "0  \\r\\n\\t\\t\\t\\t Interactive Mixed Reality System ...   \n",
       "1  \\r\\n\\t\\t\\t\\t Optimasi Penjadwalan Mata Pelajar...   \n",
       "2  \\r\\n\\t\\t\\t\\t Pengembangan Push Notification Me...   \n",
       "3  \\r\\n\\t\\t\\t\\t Pembangunan Sistem Informasi Mana...   \n",
       "4  \\r\\n\\t\\t\\t\\t Implementasi Metode Store and For...   \n",
       "\n",
       "                                                link  \\\n",
       "0  https://j-ptiik.ub.ac.id/index.php/j-ptiik/art...   \n",
       "1  https://j-ptiik.ub.ac.id/index.php/j-ptiik/art...   \n",
       "2  https://j-ptiik.ub.ac.id/index.php/j-ptiik/art...   \n",
       "3  https://j-ptiik.ub.ac.id/index.php/j-ptiik/art...   \n",
       "4  https://j-ptiik.ub.ac.id/index.php/j-ptiik/art...   \n",
       "\n",
       "                                                date  \\\n",
       "0  \\nDiterbitkan\\n\\t\\t\\t\\t\\t\\tJan  3, 2017\\n\\t\\t\\...   \n",
       "1  \\nDiterbitkan\\n\\t\\t\\t\\t\\t\\tJan  3, 2017\\n\\t\\t\\...   \n",
       "2  \\nDiterbitkan\\n\\t\\t\\t\\t\\t\\tJan  3, 2017\\n\\t\\t\\...   \n",
       "3  \\nDiterbitkan\\n\\t\\t\\t\\t\\t\\tJan  3, 2017\\n\\t\\t\\...   \n",
       "4  \\nDiterbitkan\\n\\t\\t\\t\\t\\t\\tJan  3, 2017\\n\\t\\t\\...   \n",
       "\n",
       "                                              author  \\\n",
       "0  \\nAristyo Pramana\\n\\n\\t\\t\\t\\t\\t\\t\\t\\t\\tFakulta...   \n",
       "1  \\nOlive Khoirul L.M.A.\\n\\n\\t\\t\\t\\t\\t\\t\\t\\t\\tTe...   \n",
       "2  \\nAndrias Yudianto\\n\\n\\t\\t\\t\\t\\t\\t\\t\\t\\tTeknik...   \n",
       "3  \\nAdzanil Rachmadi P\\n\\n\\t\\t\\t\\t\\t\\t\\t\\t\\tSist...   \n",
       "4  \\nMuhammad Gigih Wicaksono\\n\\n\\t\\t\\t\\t\\t\\t\\t\\t...   \n",
       "\n",
       "                                            abstract  \n",
       "0  \\nTeknologi mixed reality akan membuat interak...  \n",
       "1  \\nPenjadwalan merupakan salah satu proses pent...  \n",
       "2  \\nUntuk memenuhi kebutuhan masyarakat akan ket...  \n",
       "3  \\nPerusahaan McDonald’s adalah perusahaan yang...  \n",
       "4  \\nPerkembangan internet saat ini sangat pesat....  "
      ]
     },
     "execution_count": 54,
     "metadata": {},
     "output_type": "execute_result"
    }
   ],
   "source": [
    "df = pd.read_csv('Dataset Freepass DS 2023.csv', sep=';')\n",
    "df.head()"
   ]
  },
  {
   "cell_type": "code",
   "execution_count": 55,
   "id": "b8f78f62",
   "metadata": {},
   "outputs": [
    {
     "name": "stdout",
     "output_type": "stream",
     "text": [
      "<class 'pandas.core.frame.DataFrame'>\n",
      "RangeIndex: 3479 entries, 0 to 3478\n",
      "Data columns (total 5 columns):\n",
      " #   Column    Non-Null Count  Dtype \n",
      "---  ------    --------------  ----- \n",
      " 0   judul     3479 non-null   object\n",
      " 1   link      3479 non-null   object\n",
      " 2   date      3479 non-null   object\n",
      " 3   author    3479 non-null   object\n",
      " 4   abstract  3479 non-null   object\n",
      "dtypes: object(5)\n",
      "memory usage: 136.0+ KB\n"
     ]
    }
   ],
   "source": [
    "df.info()"
   ]
  },
  {
   "cell_type": "code",
   "execution_count": 56,
   "id": "9e4ec8ba",
   "metadata": {
    "scrolled": true
   },
   "outputs": [
    {
     "data": {
      "text/plain": [
       "judul       3479\n",
       "link        3479\n",
       "date         582\n",
       "author      3477\n",
       "abstract    3415\n",
       "dtype: int64"
      ]
     },
     "execution_count": 56,
     "metadata": {},
     "output_type": "execute_result"
    }
   ],
   "source": [
    "df.nunique()"
   ]
  },
  {
   "cell_type": "code",
   "execution_count": 57,
   "id": "3633337c",
   "metadata": {},
   "outputs": [
    {
     "data": {
      "text/plain": [
       "0"
      ]
     },
     "execution_count": 57,
     "metadata": {},
     "output_type": "execute_result"
    }
   ],
   "source": [
    "df.duplicated().sum()"
   ]
  },
  {
   "cell_type": "code",
   "execution_count": 58,
   "id": "82db6c00",
   "metadata": {},
   "outputs": [
    {
     "data": {
      "text/plain": [
       "judul       0\n",
       "link        0\n",
       "date        0\n",
       "author      0\n",
       "abstract    0\n",
       "dtype: int64"
      ]
     },
     "execution_count": 58,
     "metadata": {},
     "output_type": "execute_result"
    }
   ],
   "source": [
    "df.isnull().sum()"
   ]
  },
  {
   "cell_type": "markdown",
   "id": "c473dcb4",
   "metadata": {},
   "source": [
    "**Data Cleaning**"
   ]
  },
  {
   "cell_type": "code",
   "execution_count": 59,
   "id": "90ed8943",
   "metadata": {},
   "outputs": [],
   "source": [
    "df_new = df[['judul','abstract','link','date']].copy()"
   ]
  },
  {
   "cell_type": "code",
   "execution_count": 60,
   "id": "0c82d43c",
   "metadata": {},
   "outputs": [
    {
     "data": {
      "text/html": [
       "<div>\n",
       "<style scoped>\n",
       "    .dataframe tbody tr th:only-of-type {\n",
       "        vertical-align: middle;\n",
       "    }\n",
       "\n",
       "    .dataframe tbody tr th {\n",
       "        vertical-align: top;\n",
       "    }\n",
       "\n",
       "    .dataframe thead th {\n",
       "        text-align: right;\n",
       "    }\n",
       "</style>\n",
       "<table border=\"1\" class=\"dataframe\">\n",
       "  <thead>\n",
       "    <tr style=\"text-align: right;\">\n",
       "      <th></th>\n",
       "      <th>judul</th>\n",
       "      <th>abstract</th>\n",
       "      <th>link</th>\n",
       "      <th>date</th>\n",
       "    </tr>\n",
       "  </thead>\n",
       "  <tbody>\n",
       "    <tr>\n",
       "      <th>0</th>\n",
       "      <td>\\r\\n\\t\\t\\t\\t Interactive Mixed Reality System ...</td>\n",
       "      <td>\\nTeknologi mixed reality akan membuat interak...</td>\n",
       "      <td>https://j-ptiik.ub.ac.id/index.php/j-ptiik/art...</td>\n",
       "      <td>\\nDiterbitkan\\n\\t\\t\\t\\t\\t\\tJan  3, 2017\\n\\t\\t\\...</td>\n",
       "    </tr>\n",
       "    <tr>\n",
       "      <th>1</th>\n",
       "      <td>\\r\\n\\t\\t\\t\\t Optimasi Penjadwalan Mata Pelajar...</td>\n",
       "      <td>\\nPenjadwalan merupakan salah satu proses pent...</td>\n",
       "      <td>https://j-ptiik.ub.ac.id/index.php/j-ptiik/art...</td>\n",
       "      <td>\\nDiterbitkan\\n\\t\\t\\t\\t\\t\\tJan  3, 2017\\n\\t\\t\\...</td>\n",
       "    </tr>\n",
       "    <tr>\n",
       "      <th>2</th>\n",
       "      <td>\\r\\n\\t\\t\\t\\t Pengembangan Push Notification Me...</td>\n",
       "      <td>\\nUntuk memenuhi kebutuhan masyarakat akan ket...</td>\n",
       "      <td>https://j-ptiik.ub.ac.id/index.php/j-ptiik/art...</td>\n",
       "      <td>\\nDiterbitkan\\n\\t\\t\\t\\t\\t\\tJan  3, 2017\\n\\t\\t\\...</td>\n",
       "    </tr>\n",
       "    <tr>\n",
       "      <th>3</th>\n",
       "      <td>\\r\\n\\t\\t\\t\\t Pembangunan Sistem Informasi Mana...</td>\n",
       "      <td>\\nPerusahaan McDonald’s adalah perusahaan yang...</td>\n",
       "      <td>https://j-ptiik.ub.ac.id/index.php/j-ptiik/art...</td>\n",
       "      <td>\\nDiterbitkan\\n\\t\\t\\t\\t\\t\\tJan  3, 2017\\n\\t\\t\\...</td>\n",
       "    </tr>\n",
       "    <tr>\n",
       "      <th>4</th>\n",
       "      <td>\\r\\n\\t\\t\\t\\t Implementasi Metode Store and For...</td>\n",
       "      <td>\\nPerkembangan internet saat ini sangat pesat....</td>\n",
       "      <td>https://j-ptiik.ub.ac.id/index.php/j-ptiik/art...</td>\n",
       "      <td>\\nDiterbitkan\\n\\t\\t\\t\\t\\t\\tJan  3, 2017\\n\\t\\t\\...</td>\n",
       "    </tr>\n",
       "  </tbody>\n",
       "</table>\n",
       "</div>"
      ],
      "text/plain": [
       "                                               judul  \\\n",
       "0  \\r\\n\\t\\t\\t\\t Interactive Mixed Reality System ...   \n",
       "1  \\r\\n\\t\\t\\t\\t Optimasi Penjadwalan Mata Pelajar...   \n",
       "2  \\r\\n\\t\\t\\t\\t Pengembangan Push Notification Me...   \n",
       "3  \\r\\n\\t\\t\\t\\t Pembangunan Sistem Informasi Mana...   \n",
       "4  \\r\\n\\t\\t\\t\\t Implementasi Metode Store and For...   \n",
       "\n",
       "                                            abstract  \\\n",
       "0  \\nTeknologi mixed reality akan membuat interak...   \n",
       "1  \\nPenjadwalan merupakan salah satu proses pent...   \n",
       "2  \\nUntuk memenuhi kebutuhan masyarakat akan ket...   \n",
       "3  \\nPerusahaan McDonald’s adalah perusahaan yang...   \n",
       "4  \\nPerkembangan internet saat ini sangat pesat....   \n",
       "\n",
       "                                                link  \\\n",
       "0  https://j-ptiik.ub.ac.id/index.php/j-ptiik/art...   \n",
       "1  https://j-ptiik.ub.ac.id/index.php/j-ptiik/art...   \n",
       "2  https://j-ptiik.ub.ac.id/index.php/j-ptiik/art...   \n",
       "3  https://j-ptiik.ub.ac.id/index.php/j-ptiik/art...   \n",
       "4  https://j-ptiik.ub.ac.id/index.php/j-ptiik/art...   \n",
       "\n",
       "                                                date  \n",
       "0  \\nDiterbitkan\\n\\t\\t\\t\\t\\t\\tJan  3, 2017\\n\\t\\t\\...  \n",
       "1  \\nDiterbitkan\\n\\t\\t\\t\\t\\t\\tJan  3, 2017\\n\\t\\t\\...  \n",
       "2  \\nDiterbitkan\\n\\t\\t\\t\\t\\t\\tJan  3, 2017\\n\\t\\t\\...  \n",
       "3  \\nDiterbitkan\\n\\t\\t\\t\\t\\t\\tJan  3, 2017\\n\\t\\t\\...  \n",
       "4  \\nDiterbitkan\\n\\t\\t\\t\\t\\t\\tJan  3, 2017\\n\\t\\t\\...  "
      ]
     },
     "execution_count": 60,
     "metadata": {},
     "output_type": "execute_result"
    }
   ],
   "source": [
    "df_new.head()"
   ]
  },
  {
   "cell_type": "code",
   "execution_count": 61,
   "id": "acff89d4",
   "metadata": {},
   "outputs": [],
   "source": [
    "def deletation(data):\n",
    "    for col in data.columns:\n",
    "        data[col] = (data[col]\n",
    "                     .str.replace('\\r','')\n",
    "                     .str.replace('\\n','')\n",
    "                     .str.replace('\\t',''))"
   ]
  },
  {
   "cell_type": "code",
   "execution_count": 62,
   "id": "5134685c",
   "metadata": {},
   "outputs": [
    {
     "data": {
      "text/html": [
       "<div>\n",
       "<style scoped>\n",
       "    .dataframe tbody tr th:only-of-type {\n",
       "        vertical-align: middle;\n",
       "    }\n",
       "\n",
       "    .dataframe tbody tr th {\n",
       "        vertical-align: top;\n",
       "    }\n",
       "\n",
       "    .dataframe thead th {\n",
       "        text-align: right;\n",
       "    }\n",
       "</style>\n",
       "<table border=\"1\" class=\"dataframe\">\n",
       "  <thead>\n",
       "    <tr style=\"text-align: right;\">\n",
       "      <th></th>\n",
       "      <th>judul</th>\n",
       "      <th>abstract</th>\n",
       "      <th>link</th>\n",
       "      <th>date</th>\n",
       "    </tr>\n",
       "  </thead>\n",
       "  <tbody>\n",
       "    <tr>\n",
       "      <th>0</th>\n",
       "      <td>Interactive Mixed Reality System Menggunakan ...</td>\n",
       "      <td>Teknologi mixed reality akan membuat interaksi...</td>\n",
       "      <td>https://j-ptiik.ub.ac.id/index.php/j-ptiik/art...</td>\n",
       "      <td>DiterbitkanJan  3, 2017</td>\n",
       "    </tr>\n",
       "    <tr>\n",
       "      <th>1</th>\n",
       "      <td>Optimasi Penjadwalan Mata Pelajaran Menggunak...</td>\n",
       "      <td>Penjadwalan merupakan salah satu proses pentin...</td>\n",
       "      <td>https://j-ptiik.ub.ac.id/index.php/j-ptiik/art...</td>\n",
       "      <td>DiterbitkanJan  3, 2017</td>\n",
       "    </tr>\n",
       "    <tr>\n",
       "      <th>2</th>\n",
       "      <td>Pengembangan Push Notification Menggunakan We...</td>\n",
       "      <td>Untuk memenuhi kebutuhan masyarakat akan keter...</td>\n",
       "      <td>https://j-ptiik.ub.ac.id/index.php/j-ptiik/art...</td>\n",
       "      <td>DiterbitkanJan  3, 2017</td>\n",
       "    </tr>\n",
       "    <tr>\n",
       "      <th>3</th>\n",
       "      <td>Pembangunan Sistem Informasi Manajemen Keluha...</td>\n",
       "      <td>Perusahaan McDonald’s adalah perusahaan yang b...</td>\n",
       "      <td>https://j-ptiik.ub.ac.id/index.php/j-ptiik/art...</td>\n",
       "      <td>DiterbitkanJan  3, 2017</td>\n",
       "    </tr>\n",
       "    <tr>\n",
       "      <th>4</th>\n",
       "      <td>Implementasi Metode Store and Forward Pada Hy...</td>\n",
       "      <td>Perkembangan internet saat ini sangat pesat. D...</td>\n",
       "      <td>https://j-ptiik.ub.ac.id/index.php/j-ptiik/art...</td>\n",
       "      <td>DiterbitkanJan  3, 2017</td>\n",
       "    </tr>\n",
       "  </tbody>\n",
       "</table>\n",
       "</div>"
      ],
      "text/plain": [
       "                                               judul  \\\n",
       "0   Interactive Mixed Reality System Menggunakan ...   \n",
       "1   Optimasi Penjadwalan Mata Pelajaran Menggunak...   \n",
       "2   Pengembangan Push Notification Menggunakan We...   \n",
       "3   Pembangunan Sistem Informasi Manajemen Keluha...   \n",
       "4   Implementasi Metode Store and Forward Pada Hy...   \n",
       "\n",
       "                                            abstract  \\\n",
       "0  Teknologi mixed reality akan membuat interaksi...   \n",
       "1  Penjadwalan merupakan salah satu proses pentin...   \n",
       "2  Untuk memenuhi kebutuhan masyarakat akan keter...   \n",
       "3  Perusahaan McDonald’s adalah perusahaan yang b...   \n",
       "4  Perkembangan internet saat ini sangat pesat. D...   \n",
       "\n",
       "                                                link                     date  \n",
       "0  https://j-ptiik.ub.ac.id/index.php/j-ptiik/art...  DiterbitkanJan  3, 2017  \n",
       "1  https://j-ptiik.ub.ac.id/index.php/j-ptiik/art...  DiterbitkanJan  3, 2017  \n",
       "2  https://j-ptiik.ub.ac.id/index.php/j-ptiik/art...  DiterbitkanJan  3, 2017  \n",
       "3  https://j-ptiik.ub.ac.id/index.php/j-ptiik/art...  DiterbitkanJan  3, 2017  \n",
       "4  https://j-ptiik.ub.ac.id/index.php/j-ptiik/art...  DiterbitkanJan  3, 2017  "
      ]
     },
     "execution_count": 62,
     "metadata": {},
     "output_type": "execute_result"
    }
   ],
   "source": [
    "deletation(df_new)\n",
    "df_new.head()"
   ]
  },
  {
   "cell_type": "code",
   "execution_count": 63,
   "id": "7581be56",
   "metadata": {
    "scrolled": true
   },
   "outputs": [],
   "source": [
    "df_new['date'] = df_new['date'].str.replace('Diterbitkan','')"
   ]
  },
  {
   "cell_type": "code",
   "execution_count": 64,
   "id": "3e0f6c4f",
   "metadata": {
    "scrolled": true
   },
   "outputs": [
    {
     "data": {
      "text/html": [
       "<div>\n",
       "<style scoped>\n",
       "    .dataframe tbody tr th:only-of-type {\n",
       "        vertical-align: middle;\n",
       "    }\n",
       "\n",
       "    .dataframe tbody tr th {\n",
       "        vertical-align: top;\n",
       "    }\n",
       "\n",
       "    .dataframe thead th {\n",
       "        text-align: right;\n",
       "    }\n",
       "</style>\n",
       "<table border=\"1\" class=\"dataframe\">\n",
       "  <thead>\n",
       "    <tr style=\"text-align: right;\">\n",
       "      <th></th>\n",
       "      <th>judul</th>\n",
       "      <th>abstract</th>\n",
       "      <th>link</th>\n",
       "      <th>date</th>\n",
       "    </tr>\n",
       "  </thead>\n",
       "  <tbody>\n",
       "    <tr>\n",
       "      <th>0</th>\n",
       "      <td>Interactive Mixed Reality System Menggunakan ...</td>\n",
       "      <td>Teknologi mixed reality akan membuat interaksi...</td>\n",
       "      <td>https://j-ptiik.ub.ac.id/index.php/j-ptiik/art...</td>\n",
       "      <td>Jan  3, 2017</td>\n",
       "    </tr>\n",
       "    <tr>\n",
       "      <th>1</th>\n",
       "      <td>Optimasi Penjadwalan Mata Pelajaran Menggunak...</td>\n",
       "      <td>Penjadwalan merupakan salah satu proses pentin...</td>\n",
       "      <td>https://j-ptiik.ub.ac.id/index.php/j-ptiik/art...</td>\n",
       "      <td>Jan  3, 2017</td>\n",
       "    </tr>\n",
       "    <tr>\n",
       "      <th>2</th>\n",
       "      <td>Pengembangan Push Notification Menggunakan We...</td>\n",
       "      <td>Untuk memenuhi kebutuhan masyarakat akan keter...</td>\n",
       "      <td>https://j-ptiik.ub.ac.id/index.php/j-ptiik/art...</td>\n",
       "      <td>Jan  3, 2017</td>\n",
       "    </tr>\n",
       "    <tr>\n",
       "      <th>3</th>\n",
       "      <td>Pembangunan Sistem Informasi Manajemen Keluha...</td>\n",
       "      <td>Perusahaan McDonald’s adalah perusahaan yang b...</td>\n",
       "      <td>https://j-ptiik.ub.ac.id/index.php/j-ptiik/art...</td>\n",
       "      <td>Jan  3, 2017</td>\n",
       "    </tr>\n",
       "    <tr>\n",
       "      <th>4</th>\n",
       "      <td>Implementasi Metode Store and Forward Pada Hy...</td>\n",
       "      <td>Perkembangan internet saat ini sangat pesat. D...</td>\n",
       "      <td>https://j-ptiik.ub.ac.id/index.php/j-ptiik/art...</td>\n",
       "      <td>Jan  3, 2017</td>\n",
       "    </tr>\n",
       "  </tbody>\n",
       "</table>\n",
       "</div>"
      ],
      "text/plain": [
       "                                               judul  \\\n",
       "0   Interactive Mixed Reality System Menggunakan ...   \n",
       "1   Optimasi Penjadwalan Mata Pelajaran Menggunak...   \n",
       "2   Pengembangan Push Notification Menggunakan We...   \n",
       "3   Pembangunan Sistem Informasi Manajemen Keluha...   \n",
       "4   Implementasi Metode Store and Forward Pada Hy...   \n",
       "\n",
       "                                            abstract  \\\n",
       "0  Teknologi mixed reality akan membuat interaksi...   \n",
       "1  Penjadwalan merupakan salah satu proses pentin...   \n",
       "2  Untuk memenuhi kebutuhan masyarakat akan keter...   \n",
       "3  Perusahaan McDonald’s adalah perusahaan yang b...   \n",
       "4  Perkembangan internet saat ini sangat pesat. D...   \n",
       "\n",
       "                                                link          date  \n",
       "0  https://j-ptiik.ub.ac.id/index.php/j-ptiik/art...  Jan  3, 2017  \n",
       "1  https://j-ptiik.ub.ac.id/index.php/j-ptiik/art...  Jan  3, 2017  \n",
       "2  https://j-ptiik.ub.ac.id/index.php/j-ptiik/art...  Jan  3, 2017  \n",
       "3  https://j-ptiik.ub.ac.id/index.php/j-ptiik/art...  Jan  3, 2017  \n",
       "4  https://j-ptiik.ub.ac.id/index.php/j-ptiik/art...  Jan  3, 2017  "
      ]
     },
     "execution_count": 64,
     "metadata": {},
     "output_type": "execute_result"
    }
   ],
   "source": [
    "df_new.head()"
   ]
  },
  {
   "cell_type": "code",
   "execution_count": 66,
   "id": "6418720e",
   "metadata": {},
   "outputs": [],
   "source": [
    "df_new['date'] = (df_new['date']\n",
    "                  .str.replace('Peb','Feb')\n",
    "                  .str.replace('Mei','May')\n",
    "                  .str.replace('Agu','Aug')\n",
    "                  .str.replace('Okt','Oct')\n",
    "                  .str.replace('Des','Dec'))"
   ]
  },
  {
   "cell_type": "code",
   "execution_count": 67,
   "id": "1428b392",
   "metadata": {},
   "outputs": [
    {
     "data": {
      "text/plain": [
       "0     Jan  3, 2017\n",
       "1     Jan  3, 2017\n",
       "2     Jan  3, 2017\n",
       "3     Jan  3, 2017\n",
       "4     Jan  3, 2017\n",
       "5     Jan  3, 2017\n",
       "6     Jan  3, 2017\n",
       "7     Jan  3, 2017\n",
       "8     Jan  3, 2017\n",
       "9     Jan  3, 2017\n",
       "10    Jan  2, 2017\n",
       "11    Jan  2, 2017\n",
       "12    Jan 31, 2017\n",
       "13    Feb  1, 2017\n",
       "14    Feb  1, 2017\n",
       "Name: date, dtype: object"
      ]
     },
     "execution_count": 67,
     "metadata": {},
     "output_type": "execute_result"
    }
   ],
   "source": [
    "df_new['date'].head(15)"
   ]
  },
  {
   "cell_type": "code",
   "execution_count": 68,
   "id": "8c60a7a8",
   "metadata": {},
   "outputs": [],
   "source": [
    "df_new['Publication Date'] = pd.to_datetime(df_new['date'])\n",
    "df_new.drop('date', axis='columns', inplace=True)"
   ]
  },
  {
   "cell_type": "code",
   "execution_count": 74,
   "id": "b3b6d70f",
   "metadata": {},
   "outputs": [],
   "source": [
    "df_new = df_new.rename(columns={'judul':'Judul','abstract':'Abstrak', 'link':'Link', 'Publication Date':'Tanggal Terbit'})"
   ]
  },
  {
   "cell_type": "code",
   "execution_count": 75,
   "id": "a9d48c3d",
   "metadata": {},
   "outputs": [],
   "source": [
    "df_new['Judul'] = df_new['Judul'].apply(lambda x: x.strip())"
   ]
  },
  {
   "cell_type": "code",
   "execution_count": 78,
   "id": "18211fae",
   "metadata": {
    "scrolled": true
   },
   "outputs": [
    {
     "data": {
      "text/plain": [
       "'Teknologi mixed reality akan membuat interaksi antara user dan aplikasi terasa nyata. Teknologi ini adalah perpaduan antara dunia maya (virtual world) dan dunia nyata (real world), sehingga diharapkan pengguna akan dapat memahami terhadap informasi yang diberikan. Salah satu penggunaan teknologi mixed reality adalah penggunaan pepper ghost. Pepper ghost adalah salah satu teknologi yang bertujuan untuk menciptakan sebuah objek holografik yang interaktif. Disamping penggunaan teknologi mixed reality, terdapat suatu teknologi interaktif, yakni Kinect. Kinect menjadi alat kontrol utama dimana user sudah tidak menggunakan perangkat konvensional pada umumnya (keyboard, mouse, dan sebagainya). Dengan menggunakan kinect, user hanya menggunakan bahasa tubuh yang nantinya akan diterjemahkan menjadai sebuah perintah tertentu pada aplikasi.'"
      ]
     },
     "execution_count": 78,
     "metadata": {},
     "output_type": "execute_result"
    }
   ],
   "source": [
    "df_new['Abstrak'][0]"
   ]
  },
  {
   "cell_type": "markdown",
   "id": "f9ab2f2b",
   "metadata": {},
   "source": [
    "**Text Processing**"
   ]
  },
  {
   "cell_type": "code",
   "execution_count": 83,
   "id": "da53693d",
   "metadata": {},
   "outputs": [],
   "source": [
    "from sklearn.feature_extraction.text import TfidfVectorizer\n",
    "from sklearn.metrics.pairwise import linear_kernel"
   ]
  },
  {
   "cell_type": "code",
   "execution_count": 81,
   "id": "c73dfa56",
   "metadata": {},
   "outputs": [
    {
     "data": {
      "text/plain": [
       "0       Teknologi mixed reality akan membuat interaksi...\n",
       "1       Penjadwalan merupakan salah satu proses pentin...\n",
       "2       Untuk memenuhi kebutuhan masyarakat akan keter...\n",
       "3       Perusahaan McDonald’s adalah perusahaan yang b...\n",
       "4       Perkembangan internet saat ini sangat pesat. D...\n",
       "                              ...                        \n",
       "3474    PT. Telekomunikasi Selular, atau lebih sering ...\n",
       "3475    Kantor Notaris dan PPAT Ade Suryatini merupaka...\n",
       "3476    Corona Virus Disease merupakan wabah baru yang...\n",
       "3477    Mobile ad-hoc network (MANET) adalah suatu jar...\n",
       "3478    Ikan lele merupakan salah satu jenis ikan yang...\n",
       "Name: Abstrak, Length: 3479, dtype: object"
      ]
     },
     "execution_count": 81,
     "metadata": {},
     "output_type": "execute_result"
    }
   ],
   "source": [
    "df_new['Abstrak']"
   ]
  },
  {
   "cell_type": "code",
   "execution_count": 86,
   "id": "81f920c1",
   "metadata": {},
   "outputs": [],
   "source": [
    "tfid = TfidfVectorizer(stop_words='english')\n",
    "tfid_matrix = tfid.fit_transform(df_new['Abstrak'])"
   ]
  },
  {
   "cell_type": "code",
   "execution_count": 87,
   "id": "37ac8b5a",
   "metadata": {},
   "outputs": [],
   "source": [
    "cosine_sim = linear_kernel(tfid_matrix,tfid_matrix)"
   ]
  },
  {
   "cell_type": "code",
   "execution_count": 92,
   "id": "a009567b",
   "metadata": {},
   "outputs": [
    {
     "data": {
      "text/plain": [
       "1"
      ]
     },
     "execution_count": 92,
     "metadata": {},
     "output_type": "execute_result"
    }
   ],
   "source": [
    "judul_ind = pd.Series(df_new.index, index=df_new['Judul']).drop_duplicates()\n",
    "judul_ind['Optimasi Penjadwalan Mata Pelajaran Menggunakan Metode Tabu Search']"
   ]
  },
  {
   "cell_type": "code",
   "execution_count": 95,
   "id": "033f4493",
   "metadata": {},
   "outputs": [
    {
     "data": {
      "text/plain": [
       "Judul\n",
       "Interactive Mixed Reality System Menggunakan Pepper Ghost System dan Kendali Gerakan Tangan Berbasis Kinect                                                                     0\n",
       "Optimasi Penjadwalan Mata Pelajaran Menggunakan Metode Tabu Search                                                                                                              1\n",
       "Pengembangan Push Notification Menggunakan Websocket                                                                                                                            2\n",
       "Pembangunan Sistem Informasi Manajemen Keluhan Pelanggan Berbasis WebGis                                                                                                        3\n",
       "Implementasi Metode Store and Forward Pada Hypertext Transfer Protocol (HTTP)                                                                                                   4\n",
       "                                                                                                                                                                             ... \n",
       "Analisis Kualitas Sistem Informasi Daily Testing Activity Tracker PT. Telekomunikasi Selular menggunakan Metode Webqual 4.0 dan Importance and Performance Analysis (IPA)    3474\n",
       "Pengembangan Sistem Informasi Manajemen dan Pengawasan Dokumen Akta berbasis Web (Studi Kasus: Kantor Notaris dan PPAT Ade Suryatini S.H., M.Kn.)                            3475\n",
       "Ekstraksi Ciri Tekstur Local Ternary Pattern dan Klasifikasi Naïve Bayes untuk Deteksi Penggunaan Masker Wajah                                                               3476\n",
       "Kinerja Protocol Location Aided Routing (LAR) terhadap serangan Wormhole pada Jaringan Mobile Ad-Hoc Network (MANET)                                                         3477\n",
       "Sistem Pemilihan Ikan Lele Siap Panen berbasis Mikrokontroler dengan Metode K-Nearest Neighbors                                                                              3478\n",
       "Length: 3479, dtype: int64"
      ]
     },
     "execution_count": 95,
     "metadata": {},
     "output_type": "execute_result"
    }
   ],
   "source": [
    "judul_ind"
   ]
  },
  {
   "cell_type": "code",
   "execution_count": 175,
   "id": "ecdda0e6",
   "metadata": {},
   "outputs": [],
   "source": [
    "def get_recommendation(judul, cosine_sim = cosine_sim):\n",
    "    idx = judul_ind[judul]\n",
    "    sim_scores = enumerate(cosine_sim[idx]) \n",
    "    sim_scores = sorted(sim_scores, key=lambda x: x[1], reverse=True)\n",
    "    sim_scores = sim_scores[1:11]\n",
    "    sim_index = [i[0] for i in sim_scores]\n",
    "    judul_rec = df_new['Judul'].iloc[sim_index].sort_index(ascending=True)\n",
    "    link_judul = df_new['Link'].iloc[sim_index].sort_index(ascending=True)\n",
    "    \n",
    "    df_recommendation = pd.DataFrame(data={'Judul': judul_rec.values, 'Link': link_judul.values}, index=pd.RangeIndex(start=1, stop=11))\n",
    "    pd.set_option('display.max_colwidth', None)\n",
    "    return df_recommendation"
   ]
  },
  {
   "cell_type": "code",
   "execution_count": 178,
   "id": "e926d2f3",
   "metadata": {},
   "outputs": [
    {
     "data": {
      "text/html": [
       "<div>\n",
       "<style scoped>\n",
       "    .dataframe tbody tr th:only-of-type {\n",
       "        vertical-align: middle;\n",
       "    }\n",
       "\n",
       "    .dataframe tbody tr th {\n",
       "        vertical-align: top;\n",
       "    }\n",
       "\n",
       "    .dataframe thead th {\n",
       "        text-align: right;\n",
       "    }\n",
       "</style>\n",
       "<table border=\"1\" class=\"dataframe\">\n",
       "  <thead>\n",
       "    <tr style=\"text-align: right;\">\n",
       "      <th></th>\n",
       "      <th>Judul</th>\n",
       "      <th>Link</th>\n",
       "    </tr>\n",
       "  </thead>\n",
       "  <tbody>\n",
       "    <tr>\n",
       "      <th>1</th>\n",
       "      <td>Optimasi Penjadwalan Moving Class Menggunakan Algoritma Genetika (Studi Kasus: SMA Negeri 1 Turatea)</td>\n",
       "      <td>https://j-ptiik.ub.ac.id/index.php/j-ptiik/article/view/1354</td>\n",
       "    </tr>\n",
       "    <tr>\n",
       "      <th>2</th>\n",
       "      <td>Optimasi Penjadwalan Mata Pelajaran pada Kurikulum 2013 dengan menggunakan Hibridisasi Algoritme Genetika dan Simulated Annealing (Studi Kasus: SMA Negeri 6 Surabaya)</td>\n",
       "      <td>https://j-ptiik.ub.ac.id/index.php/j-ptiik/article/view/3301</td>\n",
       "    </tr>\n",
       "    <tr>\n",
       "      <th>3</th>\n",
       "      <td>Optimasi Penjadwalan Mesin dan Shift Karyawan Menggunakan Algoritme Genetika (Studi Kasus Pada PT. Petro Jordan Abadi)</td>\n",
       "      <td>https://j-ptiik.ub.ac.id/index.php/j-ptiik/article/view/3753</td>\n",
       "    </tr>\n",
       "    <tr>\n",
       "      <th>4</th>\n",
       "      <td>Pengembangan Aplikasi Frontdesk Berbasis Web (Studi Kasus : LPPM UB)</td>\n",
       "      <td>https://j-ptiik.ub.ac.id/index.php/j-ptiik/article/view/5603</td>\n",
       "    </tr>\n",
       "    <tr>\n",
       "      <th>5</th>\n",
       "      <td>Implementasi Algoritme Genetika Dalam Penjadwalan Akademik Sekolah Menengah Atas Brawijaya Smart School</td>\n",
       "      <td>https://j-ptiik.ub.ac.id/index.php/j-ptiik/article/view/5748</td>\n",
       "    </tr>\n",
       "    <tr>\n",
       "      <th>6</th>\n",
       "      <td>Pengembangan Sistem Aplikasi Penjadwalan Dosen Jurusan Teknik Mesin Politeknik Negeri Malang berbasis Web</td>\n",
       "      <td>https://j-ptiik.ub.ac.id/index.php/j-ptiik/article/view/5940</td>\n",
       "    </tr>\n",
       "    <tr>\n",
       "      <th>7</th>\n",
       "      <td>Pengembangan Sistem Aplikasi Penjadwalan Pendampingan Mahasiswa Disabilitas (Studi Kasus: Pusat Studi dan Layanan Disabilitas Universitas Brawijaya)</td>\n",
       "      <td>https://j-ptiik.ub.ac.id/index.php/j-ptiik/article/view/6575</td>\n",
       "    </tr>\n",
       "    <tr>\n",
       "      <th>8</th>\n",
       "      <td>Pengembangan Sistem Informasi Penjadwalan Pelayan Ibadah pada Gereja Mawar Sharon Malang Menggunakan Metode Waterfall</td>\n",
       "      <td>https://j-ptiik.ub.ac.id/index.php/j-ptiik/article/view/6683</td>\n",
       "    </tr>\n",
       "    <tr>\n",
       "      <th>9</th>\n",
       "      <td>Optimasi Penjadwalan Kegiatan Belajar Mengajar Pada Pondok Pesantren Menggunakan Algoritme Genetika  (Studi Kasus : Pondok Pesantren Yayasan Bani Syihab Nasrulloh)</td>\n",
       "      <td>https://j-ptiik.ub.ac.id/index.php/j-ptiik/article/view/9426</td>\n",
       "    </tr>\n",
       "    <tr>\n",
       "      <th>10</th>\n",
       "      <td>Optimasi Jadwal Pembelajaran Sekolah menggunakan Metode Hybrid Cat Swarm Optimization (Studi Kasus: SD Muhammadiyah 2 Denpasar)</td>\n",
       "      <td>https://j-ptiik.ub.ac.id/index.php/j-ptiik/article/view/11438</td>\n",
       "    </tr>\n",
       "  </tbody>\n",
       "</table>\n",
       "</div>"
      ],
      "text/plain": [
       "                                                                                                                                                                     Judul  \\\n",
       "1                                                                     Optimasi Penjadwalan Moving Class Menggunakan Algoritma Genetika (Studi Kasus: SMA Negeri 1 Turatea)   \n",
       "2   Optimasi Penjadwalan Mata Pelajaran pada Kurikulum 2013 dengan menggunakan Hibridisasi Algoritme Genetika dan Simulated Annealing (Studi Kasus: SMA Negeri 6 Surabaya)   \n",
       "3                                                   Optimasi Penjadwalan Mesin dan Shift Karyawan Menggunakan Algoritme Genetika (Studi Kasus Pada PT. Petro Jordan Abadi)   \n",
       "4                                                                                                     Pengembangan Aplikasi Frontdesk Berbasis Web (Studi Kasus : LPPM UB)   \n",
       "5                                                                  Implementasi Algoritme Genetika Dalam Penjadwalan Akademik Sekolah Menengah Atas Brawijaya Smart School   \n",
       "6                                                                Pengembangan Sistem Aplikasi Penjadwalan Dosen Jurusan Teknik Mesin Politeknik Negeri Malang berbasis Web   \n",
       "7                     Pengembangan Sistem Aplikasi Penjadwalan Pendampingan Mahasiswa Disabilitas (Studi Kasus: Pusat Studi dan Layanan Disabilitas Universitas Brawijaya)   \n",
       "8                                                    Pengembangan Sistem Informasi Penjadwalan Pelayan Ibadah pada Gereja Mawar Sharon Malang Menggunakan Metode Waterfall   \n",
       "9      Optimasi Penjadwalan Kegiatan Belajar Mengajar Pada Pondok Pesantren Menggunakan Algoritme Genetika  (Studi Kasus : Pondok Pesantren Yayasan Bani Syihab Nasrulloh)   \n",
       "10                                         Optimasi Jadwal Pembelajaran Sekolah menggunakan Metode Hybrid Cat Swarm Optimization (Studi Kasus: SD Muhammadiyah 2 Denpasar)   \n",
       "\n",
       "                                                             Link  \n",
       "1    https://j-ptiik.ub.ac.id/index.php/j-ptiik/article/view/1354  \n",
       "2    https://j-ptiik.ub.ac.id/index.php/j-ptiik/article/view/3301  \n",
       "3    https://j-ptiik.ub.ac.id/index.php/j-ptiik/article/view/3753  \n",
       "4    https://j-ptiik.ub.ac.id/index.php/j-ptiik/article/view/5603  \n",
       "5    https://j-ptiik.ub.ac.id/index.php/j-ptiik/article/view/5748  \n",
       "6    https://j-ptiik.ub.ac.id/index.php/j-ptiik/article/view/5940  \n",
       "7    https://j-ptiik.ub.ac.id/index.php/j-ptiik/article/view/6575  \n",
       "8    https://j-ptiik.ub.ac.id/index.php/j-ptiik/article/view/6683  \n",
       "9    https://j-ptiik.ub.ac.id/index.php/j-ptiik/article/view/9426  \n",
       "10  https://j-ptiik.ub.ac.id/index.php/j-ptiik/article/view/11438  "
      ]
     },
     "execution_count": 178,
     "metadata": {},
     "output_type": "execute_result"
    }
   ],
   "source": [
    "get_recommendation('Optimasi Penjadwalan Mata Pelajaran Menggunakan Metode Tabu Search')"
   ]
  }
 ],
 "metadata": {
  "kernelspec": {
   "display_name": "Python 3 (ipykernel)",
   "language": "python",
   "name": "python3"
  },
  "language_info": {
   "codemirror_mode": {
    "name": "ipython",
    "version": 3
   },
   "file_extension": ".py",
   "mimetype": "text/x-python",
   "name": "python",
   "nbconvert_exporter": "python",
   "pygments_lexer": "ipython3",
   "version": "3.11.0"
  },
  "toc": {
   "base_numbering": 1,
   "nav_menu": {},
   "number_sections": true,
   "sideBar": true,
   "skip_h1_title": false,
   "title_cell": "Table of Contents",
   "title_sidebar": "Contents",
   "toc_cell": false,
   "toc_position": {},
   "toc_section_display": true,
   "toc_window_display": false
  }
 },
 "nbformat": 4,
 "nbformat_minor": 5
}
